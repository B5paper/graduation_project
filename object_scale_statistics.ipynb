{
 "cells": [
  {
   "cell_type": "code",
   "execution_count": 1,
   "metadata": {},
   "outputs": [],
   "source": [
    "import myutils\n",
    "import numpy as np\n",
    "import matplotlib.pyplot as plt"
   ]
  },
  {
   "cell_type": "code",
   "execution_count": 3,
   "metadata": {},
   "outputs": [],
   "source": [
    "root_path = r'D:\\Documents\\Data_Files\\Datasets\\Pascal\\VOC2012'\n",
    "dataset = myutils.Dataset(root_path=root_path, mode='train')"
   ]
  },
  {
   "cell_type": "code",
   "execution_count": 15,
   "metadata": {},
   "outputs": [
    {
     "name": "stdout",
     "output_type": "stream",
     "text": [
      "15774\n"
     ]
    }
   ],
   "source": [
    "scales = []\n",
    "for img, label in dataset:\n",
    "    img_size = img.shape[:2]\n",
    "    height, width = img_size\n",
    "    gt_h_w = np.array([label[:, 4] - label[:, 2], label[:, 3] - label[:, 1]])  # the height and width of ground truth boxes\n",
    "    gt_h_w = gt_h_w.transpose((1, 0))  # (M, 2), 2:(height, width)\n",
    "    scale = (gt_h_w[:, 0] * gt_h_w[:, 1]) / (height * width)  # (M, ) \n",
    "    for s in scale:\n",
    "        scales.append(s.astype('float32'))\n",
    "print(len(scales))"
   ]
  },
  {
   "cell_type": "code",
   "execution_count": 27,
   "metadata": {},
   "outputs": [
    {
     "data": {
      "image/png": "[encoded data removed]",
      "text/plain": [
       "<Figure size 432x288 with 1 Axes>"
      ]
     },
     "metadata": {},
     "output_type": "display_data"
    }
   ],
   "source": [
    "hist_out = plt.hist(scales)\n",
    "plt.show()"
   ]
  }
 ],
 "metadata": {
  "kernelspec": {
   "display_name": "Python 3",
   "language": "python",
   "name": "python3"
  },
  "language_info": {
   "codemirror_mode": {
    "name": "ipython",
    "version": 3
   },
   "file_extension": ".py",
   "mimetype": "text/x-python",
   "name": "python",
   "nbconvert_exporter": "python",
   "pygments_lexer": "ipython3",
   "version": "3.6.3"
  }
 },
 "nbformat": 4,
 "nbformat_minor": 2
}
